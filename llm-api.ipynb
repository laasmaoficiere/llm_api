{
 "cells": [
  {
   "cell_type": "code",
   "execution_count": null,
   "metadata": {},
   "outputs": [],
   "source": [
    "import openai\n",
    "\n",
    "# Step 2: Set up the API credentials\n",
    "openai.api_key = \"your_openai_api_key\"\n",
    "\n",
    "# Step 3: Implementing the Use Case\n",
    "# Define a function to generate product descriptions using GPT\n",
    "def generate_product_description(product_name, features):\n",
    "    prompt = f\"Generate a creative product description for the following product:\\n\\nProduct Name: {product_name}\\nFeatures: {features}\\n\\nDescription:\"\n",
    "\n",
    "    response = openai.ChatCompletion.create(\n",
    "        model=\"gpt-4\",  # Use the latest GPT model\n",
    "        messages=[\n",
    "            {\"role\": \"system\", \"content\": \"You are a helpful assistant.\"},\n",
    "            {\"role\": \"user\", \"content\": prompt},\n",
    "        ],\n",
    "        max_tokens=150,  # Control the length of the response\n",
    "        temperature=0.7,  # Adjust creativity (0.0-1.0)\n",
    "    )\n",
    "\n",
    "    # Extract and return the generated description\n",
    "    description = response['choices'][0]['message']['content'].strip()\n",
    "    return description\n",
    "\n",
    "# Example usage\n",
    "product_name = \"Smart Water Bottle\"\n",
    "features = \"Automatic temperature control, LED display, 24-hour battery life\"\n",
    "\n",
    "description = generate_product_description(product_name, features)\n",
    "print(\"Generated Product Description:\\n\")\n",
    "print(description)"
   ]
  }
 ],
 "metadata": {
  "language_info": {
   "name": "python"
  }
 },
 "nbformat": 4,
 "nbformat_minor": 2
}
